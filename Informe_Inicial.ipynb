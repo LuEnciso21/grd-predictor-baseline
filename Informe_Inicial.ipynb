{
 "cells": [
  {
   "cell_type": "markdown",
   "id": "5e866ca3",
   "metadata": {},
   "source": [
    "<div style=\"display: flex; align-items: center;\">\n",
    "    <img alt=\"udeA logo\" height=\"140px\" src=\"https://github.com/freddyduitama/images/blob/master/logo.png?raw=true\" style=\"width:107px;height:152px; margin-right: 40px;\">\n",
    "    <div style=\"text-align: center;\">\n",
    "        <h1><b><font color='0B5345'>Sistema Predictor de grupos relacionados por el diagnóstico</font></b></h1>\n",
    "        <h1><b><font color='0B5345'>Modelo Baseline</font></b></h1>\n",
    "        <h2><font color='0B5345'>Luisa Enciso - María Ostos - Santiago Rivera</font></h2>\n",
    "    </div>\n",
    "</div>\n"
   ]
  }
 ],
 "metadata": {
  "language_info": {
   "name": "python"
  }
 },
 "nbformat": 4,
 "nbformat_minor": 5
}
